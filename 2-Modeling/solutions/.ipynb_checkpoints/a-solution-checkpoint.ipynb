{
 "cells": [
  {
   "cell_type": "markdown",
   "metadata": {},
   "source": [
    "# Solution a."
   ]
  },
  {
   "cell_type": "markdown",
   "metadata": {},
   "source": [
    "Copy the cell below and paste in [the main notebook](../modeling.ipynb)."
   ]
  },
  {
   "cell_type": "code",
   "execution_count": null,
   "metadata": {},
   "outputs": [],
   "source": [
    "# Some arbitrary hyperparameters\n",
    "min_child_weights = [1, 2, 4, 8, 10]\n",
    "\n",
    "for weight in min_child_weights:\n",
    "    hyperparams[\"min_child_weight\"] = weight\n",
    "    \n",
    "    trial_name = f\"algorithm-mode-trial-{create_date()}-weight-{weight}\"\n",
    "    trial = Trial.create(trial_name=trial_name, \n",
    "                     experiment_name=customer_churn_experiment.experiment_name,\n",
    "                     sagemaker_boto_client=boto3.client('sagemaker'))\n",
    "    \n",
    "    xgb = sagemaker.estimator.Estimator(image_uri=docker_image_name,\n",
    "                                        role=role,\n",
    "                                        hyperparameters=hyperparams,\n",
    "                                        instance_count=1, \n",
    "                                        instance_type='ml.m4.xlarge',\n",
    "                                        output_path=f's3://{bucket}/{prefix}/output',\n",
    "                                        base_job_name=\"demo-xgboost-customer-churn\",\n",
    "                                        sagemaker_session=sm_sess)\n",
    "    \n",
    "    # Look at the wait=False below\n",
    "    print(f\"Starting training job for trial {trial_name}!\")\n",
    "    xgb.fit(inputs={\n",
    "                      'train': s3_input_train,\n",
    "                      'validation': s3_input_validation\n",
    "                    },\n",
    "            experiment_config={\n",
    "                \"ExperimentName\": customer_churn_experiment.experiment_name, \n",
    "                \"TrialName\": trial.trial_name,\n",
    "                \"TrialComponentDisplayName\": \"Training\",\n",
    "            },\n",
    "            wait=False\n",
    "           )"
   ]
  }
 ],
 "metadata": {
  "kernelspec": {
   "display_name": "Python 3",
   "language": "python",
   "name": "python3"
  },
  "language_info": {
   "codemirror_mode": {
    "name": "ipython",
    "version": 3
   },
   "file_extension": ".py",
   "mimetype": "text/x-python",
   "name": "python",
   "nbconvert_exporter": "python",
   "pygments_lexer": "ipython3",
   "version": "3.8.5"
  }
 },
 "nbformat": 4,
 "nbformat_minor": 4
}
