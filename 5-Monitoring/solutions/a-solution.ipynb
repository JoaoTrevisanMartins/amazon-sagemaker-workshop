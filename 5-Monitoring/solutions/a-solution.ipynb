{
 "cells": [
  {
   "cell_type": "markdown",
   "metadata": {},
   "source": [
    "THIS EXERCISE IS BEING DEVELOPED (will be added after example with Model Quality)\n",
    "\n",
    "<a id='a_Exercise'></a>\n",
    "# 3a. Exercise\n",
    "\n",
    "### >>> Your turn! \n",
    "\n",
    "- Now that we created, analyzed and monitored `drift in data quality` and `feature attribution drift for models in production` create another monitor for `bias drift related to bias in your model's predictions`.\n",
    "\n",
    "\n",
    "Extra - you could also monitor you model quality by gathering more ground truth data and analyze quality metrics, such how the accuracy chages over time."
   ]
  }
 ],
 "metadata": {
  "kernelspec": {
   "display_name": "",
   "name": ""
  },
  "language_info": {
   "name": ""
  }
 },
 "nbformat": 4,
 "nbformat_minor": 4
}
