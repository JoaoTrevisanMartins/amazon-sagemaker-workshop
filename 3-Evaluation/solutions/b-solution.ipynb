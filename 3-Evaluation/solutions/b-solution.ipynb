{
 "cells": [
  {
   "cell_type": "markdown",
   "metadata": {},
   "source": [
    "THIS EXERCISE IS BEING DEVELOPED (will be added after SHAP example)\n",
    "<a id='a_Exercise'></a>\n",
    "# 3b. Exercise\n",
    "\n",
    "### >>> Your turn! \n",
    "\n",
    "- Create some analyzes for Bias"
   ]
  }
 ],
 "metadata": {
  "kernelspec": {
   "display_name": "",
   "name": ""
  },
  "language_info": {
   "name": ""
  }
 },
 "nbformat": 4,
 "nbformat_minor": 4
}
